{
 "cells": [
  {
   "cell_type": "markdown",
   "id": "713ac442",
   "metadata": {},
   "source": [
    "# Лабораторная работа 2.7 Работа с множествами в языке Python"
   ]
  },
  {
   "cell_type": "markdown",
   "id": "aaa83491",
   "metadata": {},
   "source": [
    "**Цель работы:** приобретение навыков по работе с множествами при написании программ с помощью языка программирования\n",
    "Python версии 3.x."
   ]
  },
  {
   "cell_type": "markdown",
   "id": "6e17788f",
   "metadata": {},
   "source": [
    "Вариант 5"
   ]
  },
  {
   "cell_type": "markdown",
   "id": "e38d8b00",
   "metadata": {},
   "source": [
    "## Ход работы"
   ]
  },
  {
   "cell_type": "markdown",
   "id": "a4a01712",
   "metadata": {},
   "source": [
    "Определить результат выполнения операций над множествами. Считать элементы множества строками. Проверить результаты\n",
    "вручную. Номер варианта задания необходимо получить у преподавателя."
   ]
  },
  {
   "cell_type": "code",
   "execution_count": 7,
   "id": "c6cb87bc",
   "metadata": {},
   "outputs": [
    {
     "name": "stdout",
     "output_type": "stream",
     "text": [
      "x = {'c', 'h'}\n",
      "y = {'c', 'r', 's', 'p', 'h'}\n"
     ]
    }
   ],
   "source": [
    "z = set('abcdefghijklmnopqrstuvwxyz')\n",
    "\n",
    "a = {'c', 'e', 'h', 'n'}\n",
    "b = {'e', 'f', 'k', 'n', 'x'}\n",
    "c = {'b', 'c', 'h', 'p', 'r', 's'}\n",
    "d = {'b', 'e', 'g'}\n",
    "\n",
    "bn = z.difference(b)\n",
    "\n",
    "x = (a.difference(b)).intersection(c.union(d))\n",
    "y = (a.intersection(bn)).union(c.difference(d))\n",
    "\n",
    "print(f'x = {x}')\n",
    "print(f'y = {y}')"
   ]
  },
  {
   "cell_type": "code",
   "execution_count": null,
   "id": "96e7c09e",
   "metadata": {},
   "outputs": [],
   "source": []
  }
 ],
 "metadata": {
  "kernelspec": {
   "display_name": "Python 3 (ipykernel)",
   "language": "python",
   "name": "python3"
  },
  "language_info": {
   "codemirror_mode": {
    "name": "ipython",
    "version": 3
   },
   "file_extension": ".py",
   "mimetype": "text/x-python",
   "name": "python",
   "nbconvert_exporter": "python",
   "pygments_lexer": "ipython3",
   "version": "3.9.7"
  }
 },
 "nbformat": 4,
 "nbformat_minor": 5
}
