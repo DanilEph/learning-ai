{
 "cells": [
  {
   "cell_type": "markdown",
   "id": "ebb70888",
   "metadata": {},
   "source": [
    "# Лабораторная работа №2.4. Работа со списками в языке Python"
   ]
  },
  {
   "cell_type": "markdown",
   "id": "780f63da",
   "metadata": {},
   "source": [
    "**Цель работы:** приобретение навыков по работе со списками при написании программ с помощью языка программирования Python версии 3.x. "
   ]
  },
  {
   "cell_type": "markdown",
   "id": "f4d76127",
   "metadata": {},
   "source": [
    "Вариант 5"
   ]
  },
  {
   "cell_type": "markdown",
   "id": "c835052e",
   "metadata": {},
   "source": [
    "### Ход работы"
   ]
  },
  {
   "cell_type": "markdown",
   "id": "3a6e6c41",
   "metadata": {},
   "source": [
    "**Задание 1.** Ввести список А из 10 элементов, найти сумму элементов, больших 3 и меньших 8 и вывести ее на экран."
   ]
  },
  {
   "cell_type": "code",
   "execution_count": 4,
   "id": "f99c284c",
   "metadata": {},
   "outputs": [
    {
     "name": "stdout",
     "output_type": "stream",
     "text": [
      "*** ВВОД МАССИВА ***\n",
      "Введите элемент 0 массива: 1\n",
      "Введите элемент 1 массива: 3\n",
      "Введите элемент 2 массива: 4\n",
      "Введите элемент 3 массива: 19\n",
      "Введите элемент 4 массива: 20\n",
      "Введите элемент 5 массива: -9\n",
      "Введите элемент 6 массива: 5\n",
      "Введите элемент 7 массива: 6\n",
      "Введите элемент 8 массива: 8\n",
      "Введите элемент 9 массива: 434\n",
      "*** Конец ввода массива ***\n",
      "\n",
      "Сумма элементов массива, которые больше 3 и меньше 8, равна:  15.0\n"
     ]
    }
   ],
   "source": [
    "def input_array(elem_num: int):\n",
    "    arr = []\n",
    "    print('*** ВВОД МАССИВА ***')\n",
    "\n",
    "    for i in range(elem_num):\n",
    "        arr.append(float(input(f'Введите элемент {i} массива: ')))\n",
    "\n",
    "    print('*** Конец ввода массива ***\\n')\n",
    "    return arr\n",
    "\n",
    "\n",
    "def array_sum(min: float, max: float, arr: []):\n",
    "    result_arr = list(filter(lambda x: min < x < max, arr))\n",
    "\n",
    "    return sum(result_arr)\n",
    "\n",
    "\n",
    "def print_array(arr: []):\n",
    "    print('*** ВЫВОД МАССИВА ***\\n')\n",
    "    for elem in arr:\n",
    "        print(elem, '\\n')\n",
    "    print('*** Конец вывода массива ***\\n')\n",
    "\n",
    "\n",
    "print(f'Сумма элементов массива, которые больше 3 и меньше 8, равна:  {array_sum(3, 8, input_array(10))}')"
   ]
  },
  {
   "cell_type": "markdown",
   "id": "2056fcc1",
   "metadata": {},
   "source": [
    "**Задание 2.** В списке, состоящем из вещественных элементов, вычислить:\n",
    "1. максимальный элемент списка;\n",
    "2. сумму элементов списка, расположенных до последнего положительного элемента.\n",
    "\n",
    "Сжать список, удалив из него все элементы, модуль которых находится в интервале [а, b]. Освободившиеся в конце списка элементы заполнить нулями."
   ]
  },
  {
   "cell_type": "code",
   "execution_count": 6,
   "id": "b9d483d2",
   "metadata": {},
   "outputs": [
    {
     "name": "stdout",
     "output_type": "stream",
     "text": [
      "*** ВВОД МАССИВА ***\n",
      "Введите элемент 0 массива: 3\n",
      "Введите элемент 1 массива: 4\n",
      "Введите элемент 2 массива: 5\n",
      "Введите элемент 3 массива: 1\n",
      "*** Конец ввода массива ***\n",
      "\n",
      "1. Максимальный элемент списка: \n",
      "5.0 \n",
      "\n",
      "2. Cумма элементов списка, расположенных до последнего положительного элемента: \n",
      "12.0 \n",
      "\n",
      "Введите интервал [а, b]\n",
      "a = 1\n",
      "b = 3\n",
      "3. Сжать список, удалив из него все элементы, модуль которых находится в интервале [а, b]. Освободившиеся в конце списка элементы заполнить нулями: \n",
      "[5.0, 4.0, 0, 0]\n"
     ]
    }
   ],
   "source": [
    "import math\n",
    "\n",
    "\n",
    "def input_array(elem_num: int):\n",
    "    arr = []\n",
    "    print('*** ВВОД МАССИВА ***')\n",
    "\n",
    "    for i in range(elem_num):\n",
    "        arr.append(float(input(f'Введите элемент {i} массива: ')))\n",
    "\n",
    "    print('*** Конец ввода массива ***\\n')\n",
    "    return arr\n",
    "\n",
    "\n",
    "def print_array(arr: []):\n",
    "    print('*** ВЫВОД МАССИВА ***\\n')\n",
    "    for elem in arr:\n",
    "        print(elem, '\\n')\n",
    "    print('*** Конец вывода массива ***\\n')\n",
    "\n",
    "\n",
    "def sum_before(arr: [float]):\n",
    "    sum: float = 0\n",
    "    last_elem_i: float\n",
    "\n",
    "    for i, elem in enumerate(arr):\n",
    "        if elem >= 0:\n",
    "            last_elem_i = i\n",
    "\n",
    "    for i, elem in enumerate(arr):\n",
    "        if i == last_elem_i:\n",
    "            break\n",
    "        sum += elem\n",
    "\n",
    "    return sum\n",
    "\n",
    "\n",
    "def compress_arr(a: float, b: float, init_arr: []):\n",
    "    for i, elem in enumerate(init_arr):\n",
    "        if a <= math.fabs(elem) <= b:\n",
    "            init_arr[i] = 0\n",
    "    init_arr.sort(reverse=True)\n",
    "    return init_arr\n",
    "\n",
    "\n",
    "arr = input_array(4)\n",
    "\n",
    "print('1. Максимальный элемент списка: ')\n",
    "print(max(arr), '\\n')\n",
    "\n",
    "print('2. Cумма элементов списка, расположенных до последнего положительного элемента: ')\n",
    "print(sum_before(arr), '\\n')\n",
    "\n",
    "\n",
    "print('Введите интервал [а, b]')\n",
    "a = float(input('a = '))\n",
    "b = float(input('b = '))\n",
    "print('3. Сжать список, удалив из него все элементы, модуль которых находится в интервале [а, b]. Освободившиеся в конце списка элементы заполнить нулями: ')\n",
    "print(compress_arr(a, b, arr))\n"
   ]
  },
  {
   "cell_type": "code",
   "execution_count": null,
   "id": "4df36ff5",
   "metadata": {},
   "outputs": [],
   "source": []
  }
 ],
 "metadata": {
  "kernelspec": {
   "display_name": "Python 3 (ipykernel)",
   "language": "python",
   "name": "python3"
  },
  "language_info": {
   "codemirror_mode": {
    "name": "ipython",
    "version": 3
   },
   "file_extension": ".py",
   "mimetype": "text/x-python",
   "name": "python",
   "nbconvert_exporter": "python",
   "pygments_lexer": "ipython3",
   "version": "3.9.7"
  }
 },
 "nbformat": 4,
 "nbformat_minor": 5
}
