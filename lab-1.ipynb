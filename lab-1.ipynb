{
 "cells": [
  {
   "cell_type": "markdown",
   "id": "f08b331b",
   "metadata": {},
   "source": [
    "## Лабораторная работа 2.2 Условные операторы и циклы в языке Python"
   ]
  },
  {
   "cell_type": "markdown",
   "id": "1b23623d",
   "metadata": {},
   "source": [
    "**Цель работы:** приобретение навыков программирования разветвляющихся алгоритмов и алгоритмов циклической структуры. Освоить операторы языка Python версии 3.x if , while , for , break и continue , позволяющих реализовывать разветвляющиеся алгоритмы и алгоритмы циклической структуры."
   ]
  },
  {
   "cell_type": "markdown",
   "id": "32146ebd",
   "metadata": {},
   "source": [
    "Вариант 5"
   ]
  },
  {
   "cell_type": "markdown",
   "id": "dca73204",
   "metadata": {},
   "source": [
    "**Задание 1.** С клавиатуры вводится цифра m (от 1 до 4). Вывести на экран названия месяцев, соответствующих времени года с номером m (считать зиму временем года №1).\n"
   ]
  },
  {
   "cell_type": "code",
   "execution_count": 19,
   "id": "7242d5fd",
   "metadata": {},
   "outputs": [
    {
     "name": "stdout",
     "output_type": "stream",
     "text": [
      "Выберите время года (введите соответствующую цифру): \n",
      "(1) Зима \n",
      "(2) Весна \n",
      "(3) Лето \n",
      "(4) Осень \n",
      "--- \n",
      "(5) Выход \n",
      "> 1\n",
      "Зима имеет следующие месяцы: Декабрь, Январь, Февраль\n",
      "\n",
      "\n",
      "Выберите время года (введите соответствующую цифру): \n",
      "(1) Зима \n",
      "(2) Весна \n",
      "(3) Лето \n",
      "(4) Осень \n",
      "--- \n",
      "(5) Выход \n",
      "> 2\n",
      "Весна имеет следующие месяцы: Март, Апраль, Май\n",
      "\n",
      "\n",
      "Выберите время года (введите соответствующую цифру): \n",
      "(1) Зима \n",
      "(2) Весна \n",
      "(3) Лето \n",
      "(4) Осень \n",
      "--- \n",
      "(5) Выход \n",
      "> 3\n",
      "Лето имеет следующие месяцы: Июнь, Июль, Август\n",
      "\n",
      "\n",
      "Выберите время года (введите соответствующую цифру): \n",
      "(1) Зима \n",
      "(2) Весна \n",
      "(3) Лето \n",
      "(4) Осень \n",
      "--- \n",
      "(5) Выход \n",
      "> 4\n",
      "Осень имеет следующие месяцы: Сентябрь, Октябрь, Ноябрь\n",
      "\n",
      "\n",
      "Выберите время года (введите соответствующую цифру): \n",
      "(1) Зима \n",
      "(2) Весна \n",
      "(3) Лето \n",
      "(4) Осень \n",
      "--- \n",
      "(5) Выход \n",
      "> 5\n",
      "\n",
      "\n"
     ]
    }
   ],
   "source": [
    "listOfMonths = [\n",
    "    'Декабрь',\n",
    "    'Январь',\n",
    "    'Февраль',\n",
    "    'Март',\n",
    "    'Апраль',\n",
    "    'Май',\n",
    "    'Июнь',\n",
    "    'Июль',\n",
    "    'Август',\n",
    "    'Сентябрь',\n",
    "    'Октябрь',\n",
    "    'Ноябрь',\n",
    "]\n",
    "\n",
    "def getMonthOfSeason(numberOfSeason) :\n",
    "    monthOfSeason = []\n",
    "    x = 0\n",
    "    for i in range(0, 4):\n",
    "        if (i + 1 == numberOfSeason):\n",
    "            for j in range(0+3*i, 3+3*i):\n",
    "                monthOfSeason.append(listOfMonths[j])\n",
    "            break\n",
    "    return  monthOfSeason\n",
    "\n",
    "stop = False\n",
    "while(stop == False):\n",
    "    m = int(input('Выберите время года (введите соответствующую цифру): \\n(1) Зима \\n(2) Весна \\n(3) Лето \\n(4) Осень \\n--- \\n(5) Выход \\n> '))\n",
    "\n",
    "    if (m == 1):\n",
    "        print ('Зима имеет следующие месяцы: ' + \", \".join(getMonthOfSeason(m)))\n",
    "    elif (m == 2):\n",
    "        print ('Весна имеет следующие месяцы: ' + \", \".join(getMonthOfSeason(m)))\n",
    "    elif (m == 3):\n",
    "        print ('Лето имеет следующие месяцы: ' + \", \".join(getMonthOfSeason(m)))\n",
    "    elif (m == 4):\n",
    "        print ('Осень имеет следующие месяцы: ' + \", \".join(getMonthOfSeason(m)))\n",
    "    elif (m == 5):\n",
    "        stop = True\n",
    "    else:\n",
    "        print ('Такого времени года нет!')\n",
    "\n",
    "    print ('\\n')"
   ]
  },
  {
   "cell_type": "markdown",
   "id": "cec80152",
   "metadata": {},
   "source": [
    "**Задание 2** Определить принадлежит ли точка A(a, b) кольцу определяемому окружностями x^2 + y^2 = 1 и x^2 + y^2 = 0.25"
   ]
  },
  {
   "cell_type": "code",
   "execution_count": 21,
   "id": "53102719",
   "metadata": {},
   "outputs": [
    {
     "name": "stdout",
     "output_type": "stream",
     "text": [
      "Определите точку А(x, y): \n",
      "Введите x = 1\n",
      "Введите y = 2\n",
      "Точка A(1.0, 2.0) НЕ ВХОДИТ в кольцо\n",
      "\n",
      "\n"
     ]
    }
   ],
   "source": [
    "def sqr_r(x, y):\n",
    "    return x ** 2 + y ** 2\n",
    "\n",
    "def is_in_ring(outer_sqr_r1, inner_sqr_r2, sqr_r_target):\n",
    "    if inner_sqr_r2 <= sqr_r_target <= outer_sqr_r1:\n",
    "        return True\n",
    "    else:\n",
    "        return False\n",
    "\n",
    "print ('Определите точку А(x, y): ')\n",
    "x = float(input('Введите x = '))\n",
    "y = float(input('Введите y = '))\n",
    "if (is_in_ring(1, 0.25, sqr_r(x, y))):\n",
    "    print ('Точка A(' + str(x) + ', ' + str(y) + ') ВХОДИТ в кольцо')\n",
    "else:\n",
    "    print ('Точка A(' + str(x) + ', ' + str(y) + ') НЕ ВХОДИТ в кольцо')\n",
    "print('\\n')"
   ]
  },
  {
   "cell_type": "markdown",
   "id": "66b183ba",
   "metadata": {},
   "source": [
    "**Задание 3.** Одноклеточная амеба каждые три часа делится на 2 клетки. Определить, сколько будет\n",
    "клеток через 6 часов."
   ]
  },
  {
   "cell_type": "code",
   "execution_count": 24,
   "id": "50f91190",
   "metadata": {},
   "outputs": [
    {
     "name": "stdout",
     "output_type": "stream",
     "text": [
      "На сколько клеток делется одна клетка за одно делениие? \n",
      "> 2\n",
      "Какой временной интервал между делениями клеток (в часах)? \n",
      "> 3\n",
      "Сколько прошло вренени с момента, когда клетка была одна (в часах)? \n",
      "> 6\n",
      "------------\n",
      "Таким образом, общее количество клеток равняется 4.0\n",
      "\n",
      "\n"
     ]
    }
   ],
   "source": [
    "def how_many_cells(cell_numbers_per_division, dividing_period, period):\n",
    "    all_divisions = period / dividing_period\n",
    "    return cell_numbers_per_division ** all_divisions\n",
    "\n",
    "\n",
    "cell_mubers_per_division = int(input('На сколько клеток делется одна клетка за одно делениие? \\n> '))\n",
    "dividing_period = int(input('Какой временной интервал между делениями клеток (в часах)? \\n> '))\n",
    "period = int(input('Сколько прошло вренени с момента, когда клетка была одна (в часах)? \\n> '))\n",
    "print ('------------')\n",
    "print ('Таким образом, общее количество клеток равняется ' + str(how_many_cells(cell_mubers_per_division, dividing_period, period)))\n",
    "print ('\\n')"
   ]
  },
  {
   "cell_type": "markdown",
   "id": "70d7abca",
   "metadata": {},
   "source": [
    "**Задание 4.** Первый интеграл Френеля https://drive.google.com/file/d/1YZvOrz2crFChZRth7mKgAn9AH32thZCu/view?usp=sharing"
   ]
  },
  {
   "cell_type": "code",
   "execution_count": 27,
   "id": "ec6c08e8",
   "metadata": {},
   "outputs": [
    {
     "name": "stdout",
     "output_type": "stream",
     "text": [
      "Введите x: 1\n",
      "Ответ: 0.7798934003768229\n"
     ]
    }
   ],
   "source": [
    "import math\n",
    "\n",
    "from scipy import integrate\n",
    "\n",
    "def function(t):\n",
    "    return math.cos((math.pi / 2) * (t ** 2))\n",
    "\n",
    "x = float(input('Введите x: '))\n",
    "v, err = integrate.quad(function, 0, x)\n",
    "print ('Ответ: ' + str(v))"
   ]
  },
  {
   "cell_type": "code",
   "execution_count": null,
   "id": "90e76f01",
   "metadata": {},
   "outputs": [],
   "source": []
  }
 ],
 "metadata": {
  "kernelspec": {
   "display_name": "Python 3 (ipykernel)",
   "language": "python",
   "name": "python3"
  },
  "language_info": {
   "codemirror_mode": {
    "name": "ipython",
    "version": 3
   },
   "file_extension": ".py",
   "mimetype": "text/x-python",
   "name": "python",
   "nbconvert_exporter": "python",
   "pygments_lexer": "ipython3",
   "version": "3.9.7"
  }
 },
 "nbformat": 4,
 "nbformat_minor": 5
}
