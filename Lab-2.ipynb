{
 "cells": [
  {
   "cell_type": "markdown",
   "id": "f7e0b55b",
   "metadata": {},
   "source": [
    "## Лабораторная работа 2.3 Работа со строками в языке Python"
   ]
  },
  {
   "cell_type": "markdown",
   "id": "25d356a4",
   "metadata": {},
   "source": [
    "**Цель работы:** приобретение навыков по работе со строками при написании программ с помощью языка программирования Python версии 3.x.\n"
   ]
  },
  {
   "cell_type": "markdown",
   "id": "6aa8893b",
   "metadata": {},
   "source": [
    "Вариант 5"
   ]
  },
  {
   "cell_type": "markdown",
   "id": "3565c735",
   "metadata": {},
   "source": [
    "**Задание 1.**  Дано слово. Добавить к нему в начале и конце столько звездочек, сколько букв в этом слове."
   ]
  },
  {
   "cell_type": "code",
   "execution_count": 5,
   "id": "b3d7da50",
   "metadata": {},
   "outputs": [
    {
     "name": "stdout",
     "output_type": "stream",
     "text": [
      "Введите слово: hello\n",
      "***** hello *****\n"
     ]
    }
   ],
   "source": [
    "def add_asterisks(word):\n",
    "    number_of_letters = len(word)\n",
    "    simbol = '*'\n",
    "    return(simbol * number_of_letters + ' ' + word + ' ' + simbol * number_of_letters)\n",
    "\n",
    "one_word = input('Введите слово: ')\n",
    "\n",
    "print(add_asterisks(one_word))"
   ]
  },
  {
   "cell_type": "markdown",
   "id": "f4c35d8b",
   "metadata": {},
   "source": [
    "**Задание 2.** Даны два слова. Определить, сколько начальных букв первого слова совпадает с начальными буквами второго слова. Рассмотреть два случая:\n",
    " - известно, что слова разные; \n",
    " - слова могут быть одинаковыми.\n"
   ]
  },
  {
   "cell_type": "code",
   "execution_count": 16,
   "id": "cf8d6584",
   "metadata": {},
   "outputs": [
    {
     "name": "stdout",
     "output_type": "stream",
     "text": [
      "Слова могут быть одинаковыми? \n",
      "(1) да \n",
      "(2) нет \n",
      "> 2\n",
      "Введите первое слово: hell\n",
      "Введите второе слов: hello\n",
      "Колличество одинаковых начальных букв двух введенных слов равно 4\n"
     ]
    }
   ],
   "source": [
    "import logging\n",
    "\n",
    "\n",
    "def input_two_words(isRepeat = 'repeat'):\n",
    "    word_1 = input('Введите первое слово: ')\n",
    "    word_2 = input('Введите второе слов: ')\n",
    "\n",
    "    if (isRepeat == 'no-repeat' and word_1 == word_2):\n",
    "        logging.error('Вы ввели два одиноковых слова! Слова не могут быть одинаковыми!')\n",
    "    else:\n",
    "        return word_1, word_2\n",
    "\n",
    "def match_words(word_1, word_2):\n",
    "    length = 0\n",
    "    match_count = 0\n",
    "\n",
    "    if (len(word_1) <= len(word_2)):\n",
    "        length = len(word_1)\n",
    "    else:\n",
    "        length = len(word_2)\n",
    "\n",
    "    for i in range(length):\n",
    "        if (word_1[i] == word_2[i]):\n",
    "            match_count += 1\n",
    "        else:\n",
    "            break\n",
    "\n",
    "    return match_count\n",
    "\n",
    "variant = int(input('Слова могут быть одинаковыми? \\n(1) да \\n(2) нет \\n> '))\n",
    "number_of_letters_in_result = 0\n",
    "\n",
    "if (variant == 1):\n",
    "    number_of_letters_in_result = match_words(*input_two_words())\n",
    "elif (variant == 2):\n",
    "    number_of_letters_in_result = match_words(*input_two_words('no-repeat'))\n",
    "else:\n",
    "    print('Такого пункта нет!')\n",
    "\n",
    "if (variant == 1 or variant == 2):\n",
    "    print('Колличество одинаковых начальных букв двух введенных слов равно ' + str(number_of_letters_in_result))"
   ]
  },
  {
   "cell_type": "markdown",
   "id": "71cb4e0e",
   "metadata": {},
   "source": [
    "**Задание 3.** Дано предложение. Удалить из него все буквы с (как в кириллице так и на латинице)."
   ]
  },
  {
   "cell_type": "code",
   "execution_count": 22,
   "id": "3f79be2d",
   "metadata": {},
   "outputs": [
    {
     "name": "stdout",
     "output_type": "stream",
     "text": [
      "Введите предложение: My favorite number is 101! \n",
      "Предложение без букв, только цифры: 101\n"
     ]
    }
   ],
   "source": [
    "def remove_letters(string):\n",
    "    filtered_string = ''.join(filter(str.isdigit, string))\n",
    "    return filtered_string\n",
    "\n",
    "sentence = input('Введите предложение: ')\n",
    "print('Предложение без букв, только цифры: ' + remove_letters(sentence))"
   ]
  },
  {
   "cell_type": "markdown",
   "id": "9b5eccdb",
   "metadata": {},
   "source": [
    "**Задание 4.** Даны два слова. Для каждой буквы первого слова (в том числе для повторяющихся в этом слове букв) определить, входит ли она во второе слово. Например, если заданные слова информация и процессор, то для букв первого из них ответом должно быть: нет нет нет да да нет нет да нет нет."
   ]
  },
  {
   "cell_type": "code",
   "execution_count": 23,
   "id": "8796e371",
   "metadata": {},
   "outputs": [
    {
     "name": "stdout",
     "output_type": "stream",
     "text": [
      "Введите первое слово: привет\n",
      "Введите второе слово: мир\n",
      "нет\n",
      "да\n",
      "да\n",
      "нет\n",
      "нет\n",
      "нет\n"
     ]
    }
   ],
   "source": [
    "def match_words(word_1, word_2):\n",
    "    for letter_of_word_1 in word_1:\n",
    "        middle_letter = 'нет'\n",
    "        for letter_of_word_2 in word_2:\n",
    "            if (letter_of_word_1 == letter_of_word_2):\n",
    "                middle_letter = 'да'\n",
    "                break\n",
    "        print(middle_letter)\n",
    "\n",
    "word_1 = input('Введите первое слово: ')\n",
    "word_2 = input('Введите второе слово: ')\n",
    "\n",
    "match_words(word_1, word_2)\n"
   ]
  },
  {
   "cell_type": "code",
   "execution_count": null,
   "id": "031cb735",
   "metadata": {},
   "outputs": [],
   "source": []
  }
 ],
 "metadata": {
  "kernelspec": {
   "display_name": "Python 3 (ipykernel)",
   "language": "python",
   "name": "python3"
  },
  "language_info": {
   "codemirror_mode": {
    "name": "ipython",
    "version": 3
   },
   "file_extension": ".py",
   "mimetype": "text/x-python",
   "name": "python",
   "nbconvert_exporter": "python",
   "pygments_lexer": "ipython3",
   "version": "3.9.7"
  }
 },
 "nbformat": 4,
 "nbformat_minor": 5
}
